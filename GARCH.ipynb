{
 "cells": [
  {
   "cell_type": "markdown",
   "id": "3dcf2850",
   "metadata": {},
   "source": [
    "A. Install package, modul and Preprocessing data"
   ]
  },
  {
   "cell_type": "code",
   "execution_count": 83,
   "id": "ab11024f",
   "metadata": {},
   "outputs": [
    {
     "name": "stdout",
     "output_type": "stream",
     "text": [
      "Requirement already satisfied: arch in c:\\users\\meebo\\anaconda3\\lib\\site-packages (5.5.0)\n",
      "Requirement already satisfied: property-cached>=1.6.4 in c:\\users\\meebo\\anaconda3\\lib\\site-packages (from arch) (1.6.4)\n",
      "Requirement already satisfied: statsmodels>=0.11 in c:\\users\\meebo\\anaconda3\\lib\\site-packages (from arch) (0.13.2)\n",
      "Requirement already satisfied: pandas>=1.0 in c:\\users\\meebo\\anaconda3\\lib\\site-packages (from arch) (1.4.4)\n",
      "Requirement already satisfied: numpy>=1.17 in c:\\users\\meebo\\anaconda3\\lib\\site-packages (from arch) (1.21.5)\n",
      "Requirement already satisfied: scipy>=1.3 in c:\\users\\meebo\\anaconda3\\lib\\site-packages (from arch) (1.9.1)\n",
      "Requirement already satisfied: python-dateutil>=2.8.1 in c:\\users\\meebo\\anaconda3\\lib\\site-packages (from pandas>=1.0->arch) (2.8.2)\n",
      "Requirement already satisfied: pytz>=2020.1 in c:\\users\\meebo\\anaconda3\\lib\\site-packages (from pandas>=1.0->arch) (2022.1)\n",
      "Requirement already satisfied: patsy>=0.5.2 in c:\\users\\meebo\\anaconda3\\lib\\site-packages (from statsmodels>=0.11->arch) (0.5.2)\n",
      "Requirement already satisfied: packaging>=21.3 in c:\\users\\meebo\\anaconda3\\lib\\site-packages (from statsmodels>=0.11->arch) (21.3)\n",
      "Requirement already satisfied: pyparsing!=3.0.5,>=2.0.2 in c:\\users\\meebo\\anaconda3\\lib\\site-packages (from packaging>=21.3->statsmodels>=0.11->arch) (3.0.9)\n",
      "Requirement already satisfied: six in c:\\users\\meebo\\anaconda3\\lib\\site-packages (from patsy>=0.5.2->statsmodels>=0.11->arch) (1.16.0)\n",
      "Requirement already satisfied: scikit-learn in c:\\users\\meebo\\anaconda3\\lib\\site-packages (1.0.2)\n",
      "Requirement already satisfied: scipy>=1.1.0 in c:\\users\\meebo\\anaconda3\\lib\\site-packages (from scikit-learn) (1.9.1)\n",
      "Requirement already satisfied: joblib>=0.11 in c:\\users\\meebo\\anaconda3\\lib\\site-packages (from scikit-learn) (1.1.0)\n",
      "Requirement already satisfied: numpy>=1.14.6 in c:\\users\\meebo\\anaconda3\\lib\\site-packages (from scikit-learn) (1.21.5)\n",
      "Requirement already satisfied: threadpoolctl>=2.0.0 in c:\\users\\meebo\\anaconda3\\lib\\site-packages (from scikit-learn) (2.2.0)\n"
     ]
    }
   ],
   "source": [
    "!pip install arch\n",
    "!pip install scikit-learn\n",
    "import pandas as pd\n",
    "import numpy as np\n",
    "import matplotlib.pyplot as plt\n",
    "import matplotlib.dates as mdates\n",
    "import datetime as dt\n",
    "import math\n",
    "\n",
    "import warnings\n",
    "warnings.simplefilter(action='ignore', category=FutureWarning)\n"
   ]
  },
  {
   "cell_type": "code",
   "execution_count": 65,
   "id": "b4c81037",
   "metadata": {},
   "outputs": [
    {
     "data": {
      "text/html": [
       "<div>\n",
       "<style scoped>\n",
       "    .dataframe tbody tr th:only-of-type {\n",
       "        vertical-align: middle;\n",
       "    }\n",
       "\n",
       "    .dataframe tbody tr th {\n",
       "        vertical-align: top;\n",
       "    }\n",
       "\n",
       "    .dataframe thead th {\n",
       "        text-align: right;\n",
       "    }\n",
       "</style>\n",
       "<table border=\"1\" class=\"dataframe\">\n",
       "  <thead>\n",
       "    <tr style=\"text-align: right;\">\n",
       "      <th></th>\n",
       "      <th>Date</th>\n",
       "      <th>Close</th>\n",
       "    </tr>\n",
       "  </thead>\n",
       "  <tbody>\n",
       "    <tr>\n",
       "      <th>0</th>\n",
       "      <td>1/4/2010</td>\n",
       "      <td>1132.99</td>\n",
       "    </tr>\n",
       "    <tr>\n",
       "      <th>1</th>\n",
       "      <td>1/5/2010</td>\n",
       "      <td>1136.52</td>\n",
       "    </tr>\n",
       "    <tr>\n",
       "      <th>2</th>\n",
       "      <td>1/6/2010</td>\n",
       "      <td>1137.14</td>\n",
       "    </tr>\n",
       "    <tr>\n",
       "      <th>3</th>\n",
       "      <td>1/7/2010</td>\n",
       "      <td>1141.69</td>\n",
       "    </tr>\n",
       "    <tr>\n",
       "      <th>4</th>\n",
       "      <td>1/8/2010</td>\n",
       "      <td>1144.98</td>\n",
       "    </tr>\n",
       "  </tbody>\n",
       "</table>\n",
       "</div>"
      ],
      "text/plain": [
       "       Date    Close\n",
       "0  1/4/2010  1132.99\n",
       "1  1/5/2010  1136.52\n",
       "2  1/6/2010  1137.14\n",
       "3  1/7/2010  1141.69\n",
       "4  1/8/2010  1144.98"
      ]
     },
     "execution_count": 65,
     "metadata": {},
     "output_type": "execute_result"
    }
   ],
   "source": [
    "sp_index = pd.read_csv('D:/STUDY/STUDY/PYTHON/Grach model/SP500.csv')\n",
    "sp_index.head()"
   ]
  },
  {
   "cell_type": "markdown",
   "id": "faf0dbe7",
   "metadata": {},
   "source": [
    "Recall in GARCH(1,1), since beta is the coefficient of lag-1 variance, if the alpha is fixed, the larger the beta , the longer the duration of the impact. In other words, high or low volatility periods tend to persist. Pay attention to the plotted results and see whether you can verify the beta impact."
   ]
  },
  {
   "cell_type": "code",
   "execution_count": 66,
   "id": "ad4e9a4c",
   "metadata": {},
   "outputs": [
    {
     "data": {
      "text/html": [
       "<div>\n",
       "<style scoped>\n",
       "    .dataframe tbody tr th:only-of-type {\n",
       "        vertical-align: middle;\n",
       "    }\n",
       "\n",
       "    .dataframe tbody tr th {\n",
       "        vertical-align: top;\n",
       "    }\n",
       "\n",
       "    .dataframe thead th {\n",
       "        text-align: right;\n",
       "    }\n",
       "</style>\n",
       "<table border=\"1\" class=\"dataframe\">\n",
       "  <thead>\n",
       "    <tr style=\"text-align: right;\">\n",
       "      <th></th>\n",
       "      <th>Date</th>\n",
       "      <th>Close</th>\n",
       "      <th>Return</th>\n",
       "    </tr>\n",
       "  </thead>\n",
       "  <tbody>\n",
       "    <tr>\n",
       "      <th>1</th>\n",
       "      <td>1/5/2010</td>\n",
       "      <td>1136.52</td>\n",
       "      <td>0.003111</td>\n",
       "    </tr>\n",
       "    <tr>\n",
       "      <th>2</th>\n",
       "      <td>1/6/2010</td>\n",
       "      <td>1137.14</td>\n",
       "      <td>0.000545</td>\n",
       "    </tr>\n",
       "    <tr>\n",
       "      <th>3</th>\n",
       "      <td>1/7/2010</td>\n",
       "      <td>1141.69</td>\n",
       "      <td>0.003993</td>\n",
       "    </tr>\n",
       "    <tr>\n",
       "      <th>4</th>\n",
       "      <td>1/8/2010</td>\n",
       "      <td>1144.98</td>\n",
       "      <td>0.002878</td>\n",
       "    </tr>\n",
       "    <tr>\n",
       "      <th>5</th>\n",
       "      <td>1/11/2010</td>\n",
       "      <td>1146.98</td>\n",
       "      <td>0.001745</td>\n",
       "    </tr>\n",
       "    <tr>\n",
       "      <th>...</th>\n",
       "      <td>...</td>\n",
       "      <td>...</td>\n",
       "      <td>...</td>\n",
       "    </tr>\n",
       "    <tr>\n",
       "      <th>3347</th>\n",
       "      <td>4/21/2023</td>\n",
       "      <td>4133.52</td>\n",
       "      <td>0.000903</td>\n",
       "    </tr>\n",
       "    <tr>\n",
       "      <th>3348</th>\n",
       "      <td>4/24/2023</td>\n",
       "      <td>4137.04</td>\n",
       "      <td>0.000851</td>\n",
       "    </tr>\n",
       "    <tr>\n",
       "      <th>3349</th>\n",
       "      <td>4/25/2023</td>\n",
       "      <td>4071.63</td>\n",
       "      <td>-0.015937</td>\n",
       "    </tr>\n",
       "    <tr>\n",
       "      <th>3350</th>\n",
       "      <td>4/26/2023</td>\n",
       "      <td>4055.99</td>\n",
       "      <td>-0.003849</td>\n",
       "    </tr>\n",
       "    <tr>\n",
       "      <th>3351</th>\n",
       "      <td>4/27/2023</td>\n",
       "      <td>4135.35</td>\n",
       "      <td>0.019377</td>\n",
       "    </tr>\n",
       "  </tbody>\n",
       "</table>\n",
       "<p>3351 rows × 3 columns</p>\n",
       "</div>"
      ],
      "text/plain": [
       "           Date    Close    Return\n",
       "1      1/5/2010  1136.52  0.003111\n",
       "2      1/6/2010  1137.14  0.000545\n",
       "3      1/7/2010  1141.69  0.003993\n",
       "4      1/8/2010  1144.98  0.002878\n",
       "5     1/11/2010  1146.98  0.001745\n",
       "...         ...      ...       ...\n",
       "3347  4/21/2023  4133.52  0.000903\n",
       "3348  4/24/2023  4137.04  0.000851\n",
       "3349  4/25/2023  4071.63 -0.015937\n",
       "3350  4/26/2023  4055.99 -0.003849\n",
       "3351  4/27/2023  4135.35  0.019377\n",
       "\n",
       "[3351 rows x 3 columns]"
      ]
     },
     "execution_count": 66,
     "metadata": {},
     "output_type": "execute_result"
    }
   ],
   "source": [
    "# Calculate daily returns as percentage price changes\n",
    "\n",
    "sp_index['Return'] = pd.Series(np.log(sp_index['Close'] / sp_index['Close'].shift(1)))\n",
    "sp_index = sp_index.dropna()\n",
    "sp_index"
   ]
  },
  {
   "cell_type": "code",
   "execution_count": 67,
   "id": "00fc9a2b",
   "metadata": {},
   "outputs": [
    {
     "data": {
      "text/plain": [
       "Date       object\n",
       "Close     float64\n",
       "Return    float64\n",
       "dtype: object"
      ]
     },
     "execution_count": 67,
     "metadata": {},
     "output_type": "execute_result"
    }
   ],
   "source": [
    "sp_index.dtypes"
   ]
  },
  {
   "cell_type": "code",
   "execution_count": 68,
   "id": "f0070a8c",
   "metadata": {},
   "outputs": [
    {
     "data": {
      "text/plain": [
       "Date      datetime64[ns]\n",
       "Close            float64\n",
       "Return           float64\n",
       "dtype: object"
      ]
     },
     "execution_count": 68,
     "metadata": {},
     "output_type": "execute_result"
    }
   ],
   "source": [
    "# Change type of Date from object to datetime\n",
    "sp_index['Date'] = pd.to_datetime(sp_index['Date'])\n",
    "sp_index.dtypes"
   ]
  },
  {
   "cell_type": "code",
   "execution_count": 69,
   "id": "0bc0f568",
   "metadata": {},
   "outputs": [
    {
     "data": {
      "image/png": "[encoded data removed]",
      "text/plain": [
       "<Figure size 640x480 with 1 Axes>"
      ]
     },
     "metadata": {},
     "output_type": "display_data"
    }
   ],
   "source": [
    "# Plot the price returns\n",
    "plt.plot(sp_index['Date'],sp_index['Return'], color = 'orange')\n",
    "plt.show()"
   ]
  },
  {
   "cell_type": "markdown",
   "id": "c9e22f14",
   "metadata": {},
   "source": [
    "B. Split data into train and test `"
   ]
  },
  {
   "cell_type": "code",
   "execution_count": 85,
   "id": "89cc0f62",
   "metadata": {},
   "outputs": [],
   "source": [
    "from sklearn.model_selection import train_test_split\n",
    "train_index, test_index = train_test_split(sp_index,test_size = 0.2, shuffle=False)"
   ]
  },
  {
   "cell_type": "code",
   "execution_count": 88,
   "id": "897bfab3",
   "metadata": {},
   "outputs": [
    {
     "name": "stdout",
     "output_type": "stream",
     "text": [
      "Daily volatility:  0.011%\n",
      "Daily variance:  0.000%\n",
      "Monthly volatility:  0.051%\n",
      "Annual volatility:  0.175%\n"
     ]
    }
   ],
   "source": [
    "# Calculate daily std of returns (historical)\n",
    "std_daily = train_index['Return'].std()\n",
    "var_daily = train_index['Return'].var()\n",
    "print('Daily volatility: ', '{:.3f}%'.format(std_daily))\n",
    "print('Daily variance: ', '{:.3f}%'.format(var_daily))\n",
    "\n",
    "# Convert daily volatility to monthly volatility (historical)\n",
    "std_monthly = math.sqrt(21) * std_daily\n",
    "print ('Monthly volatility: ', '{:.3f}%'.format(std_monthly))\n",
    "\n",
    "# Convert daily volatility to annaul volatility (historical)\n",
    "std_annual = math.sqrt(252) * std_daily\n",
    "print ('Annual volatility: ', '{:.3f}%'.format(std_annual))"
   ]
  },
  {
   "cell_type": "markdown",
   "id": "880f4300",
   "metadata": {},
   "source": [
    "Simulating a GARCH model involves generating artificial data that mimics the behavior of a GARCH time series. To simulate a GARCH model, you need to first estimate the model parameters using historical data. "
   ]
  },
  {
   "cell_type": "code",
   "execution_count": 79,
   "id": "4d6c100c",
   "metadata": {},
   "outputs": [
    {
     "name": "stdout",
     "output_type": "stream",
     "text": [
      "1.2597911706359647e-08\n",
      "0.08908807089058882\n",
      "0.08017926380152994\n"
     ]
    }
   ],
   "source": [
    "# Calculate the initial value of omega\n",
    "omega_ini = 0.0001 * var_daily\n",
    "print(omega)\n",
    "\n",
    "# Calculate the initial value of alpha\n",
    "alpha_ini = 0.5 * std_annual\n",
    "print(alpha)\n",
    "\n",
    "# Calculate the initial value of beta\n",
    "beta_ini = 0.45 * std_annual\n",
    "print(beta)"
   ]
  },
  {
   "cell_type": "markdown",
   "id": "4cf01201",
   "metadata": {},
   "source": [
    "C. Fit GARCH(1,1) model with normal distribution and skewt t-distribution"
   ]
  },
  {
   "cell_type": "code",
   "execution_count": 72,
   "id": "e85daee7",
   "metadata": {},
   "outputs": [],
   "source": [
    "from arch import arch_model"
   ]
  },
  {
   "cell_type": "code",
   "execution_count": 82,
   "id": "11713980",
   "metadata": {},
   "outputs": [
    {
     "ename": "TypeError",
     "evalue": "fit() got an unexpected keyword argument 'start_params'",
     "output_type": "error",
     "traceback": [
      "\u001b[1;31m---------------------------------------------------------------------------\u001b[0m",
      "\u001b[1;31mTypeError\u001b[0m                                 Traceback (most recent call last)",
      "\u001b[1;32m~\\AppData\\Local\\Temp\\ipykernel_45840\\1890322812.py\u001b[0m in \u001b[0;36m<module>\u001b[1;34m\u001b[0m\n\u001b[0;32m      2\u001b[0m \u001b[0mbasic_gm\u001b[0m \u001b[1;33m=\u001b[0m \u001b[0march_model\u001b[0m\u001b[1;33m(\u001b[0m\u001b[0msp_index\u001b[0m\u001b[1;33m[\u001b[0m\u001b[1;34m'Return'\u001b[0m\u001b[1;33m]\u001b[0m\u001b[1;33m,\u001b[0m \u001b[0mp\u001b[0m \u001b[1;33m=\u001b[0m \u001b[1;36m1\u001b[0m\u001b[1;33m,\u001b[0m \u001b[0mq\u001b[0m \u001b[1;33m=\u001b[0m \u001b[1;36m1\u001b[0m\u001b[1;33m,\u001b[0m \u001b[0mmean\u001b[0m \u001b[1;33m=\u001b[0m \u001b[1;34m'constant'\u001b[0m\u001b[1;33m,\u001b[0m \u001b[0mvol\u001b[0m \u001b[1;33m=\u001b[0m \u001b[1;34m'GARCH'\u001b[0m\u001b[1;33m,\u001b[0m \u001b[0mdist\u001b[0m \u001b[1;33m=\u001b[0m \u001b[1;34m'normal'\u001b[0m\u001b[1;33m)\u001b[0m\u001b[1;33m\u001b[0m\u001b[1;33m\u001b[0m\u001b[0m\n\u001b[0;32m      3\u001b[0m \u001b[1;31m# Fit the model\u001b[0m\u001b[1;33m\u001b[0m\u001b[1;33m\u001b[0m\u001b[0m\n\u001b[1;32m----> 4\u001b[1;33m \u001b[0mgm_result\u001b[0m \u001b[1;33m=\u001b[0m \u001b[0mbasic_gm\u001b[0m\u001b[1;33m.\u001b[0m\u001b[0mfit\u001b[0m\u001b[1;33m(\u001b[0m\u001b[0mupdate_freq\u001b[0m \u001b[1;33m=\u001b[0m \u001b[1;36m180\u001b[0m\u001b[1;33m,\u001b[0m\u001b[0mstart_params\u001b[0m\u001b[1;33m=\u001b[0m\u001b[1;33m[\u001b[0m\u001b[0malpha_ini\u001b[0m\u001b[1;33m,\u001b[0m \u001b[0mbeta_ini\u001b[0m\u001b[1;33m,\u001b[0m \u001b[0momega_ini\u001b[0m\u001b[1;33m]\u001b[0m\u001b[1;33m)\u001b[0m\u001b[1;33m\u001b[0m\u001b[1;33m\u001b[0m\u001b[0m\n\u001b[0m\u001b[0;32m      5\u001b[0m \u001b[1;31m# Display model fitting summary\u001b[0m\u001b[1;33m\u001b[0m\u001b[1;33m\u001b[0m\u001b[0m\n\u001b[0;32m      6\u001b[0m \u001b[0mprint\u001b[0m\u001b[1;33m(\u001b[0m\u001b[0mgm_result\u001b[0m\u001b[1;33m.\u001b[0m\u001b[0msummary\u001b[0m\u001b[1;33m(\u001b[0m\u001b[1;33m)\u001b[0m\u001b[1;33m)\u001b[0m\u001b[1;33m\u001b[0m\u001b[1;33m\u001b[0m\u001b[0m\n",
      "\u001b[1;31mTypeError\u001b[0m: fit() got an unexpected keyword argument 'start_params'"
     ]
    }
   ],
   "source": [
    "# Specify GARCH model assumptions\n",
    "basic_gm = arch_model(sp_index['Return'], p = 1, q = 1, mean = 'constant', vol = 'GARCH', dist = 'normal')\n",
    "# Fit the model\n",
    "gm_result = basic_gm.fit(update_freq = 180,start_params=[alpha_ini, beta_ini, omega_ini])\n",
    "# Display model fitting summary\n",
    "print(gm_result.summary())"
   ]
  },
  {
   "cell_type": "markdown",
   "id": "33774ffe",
   "metadata": {},
   "source": [
    "R-squared and adjusted R-squared are both zero, indicating that the mean model does not explain much of the variation in the data\n"
   ]
  },
  {
   "cell_type": "markdown",
   "id": "65c789e3",
   "metadata": {},
   "source": [
    "C-1. Apply normal distribution assumption of the standardized residuals."
   ]
  },
  {
   "cell_type": "markdown",
   "id": "c2822e24",
   "metadata": {},
   "source": [
    "Returns = the mean returns + residuals, and residuals are a stochastic return shocks dependent on the size of the volatility. Therefore to model volatility, GARCH models require making distribution assumptions of both the residuals and the mean returns."
   ]
  },
  {
   "cell_type": "code",
   "execution_count": 52,
   "id": "ab811d2d",
   "metadata": {},
   "outputs": [
    {
     "data": {
      "image/png": "[encoded data removed]",
      "text/plain": [
       "<Figure size 640x480 with 1 Axes>"
      ]
     },
     "metadata": {},
     "output_type": "display_data"
    }
   ],
   "source": [
    "# Obtain model estimated residuals and volatility\n",
    "gm_resid = gm_result.resid\n",
    "gm_std = gm_result.conditional_volatility\n",
    "\n",
    "# Calculate the standardized residuals\n",
    "gm_std_resid = gm_resid /gm_std\n",
    "\n",
    "# Plot the histogram of the standardized residuals\n",
    "plt.hist(gm_std_resid, bins = 60, \n",
    "         facecolor = 'orange', label = 'standardized residuals')\n",
    "plt.hist(gm_resid, bins = 60, \n",
    "         facecolor = 'purple', label = 'Normal residuals')\n",
    "plt.legend(loc = 'upper right')\n",
    "plt.show()"
   ]
  },
  {
   "cell_type": "markdown",
   "id": "58682ee8",
   "metadata": {},
   "source": [
    "=> It look like my standardized residuals have a normal distribution -> the model has captured the underlying patterns in the data."
   ]
  },
  {
   "cell_type": "markdown",
   "id": "609cc661",
   "metadata": {},
   "source": [
    "C-2. Apply skewed Student's t-distribution assumption"
   ]
  },
  {
   "cell_type": "code",
   "execution_count": 55,
   "id": "4938bb3d",
   "metadata": {
    "scrolled": true
   },
   "outputs": [
    {
     "name": "stdout",
     "output_type": "stream",
     "text": [
      "Iteration:      1,   Func. Count:      8,   Neg. LLF: 31154.521627859758\n",
      "Iteration:      2,   Func. Count:     21,   Neg. LLF: 19583.7982142002\n",
      "Iteration:      3,   Func. Count:     32,   Neg. LLF: 186234.15210111073\n",
      "Iteration:      4,   Func. Count:     40,   Neg. LLF: 7274.556050736161\n",
      "Iteration:      5,   Func. Count:     48,   Neg. LLF: 4288.0506126736445\n",
      "Iteration:      6,   Func. Count:     56,   Neg. LLF: 4484.3263935129\n",
      "Iteration:      7,   Func. Count:     64,   Neg. LLF: 4241.392724744923\n",
      "Iteration:      8,   Func. Count:     71,   Neg. LLF: 5182.444808384344\n",
      "Iteration:      9,   Func. Count:     80,   Neg. LLF: 4242.252524225442\n",
      "Iteration:     10,   Func. Count:     88,   Neg. LLF: 4241.047281761241\n",
      "Iteration:     11,   Func. Count:     95,   Neg. LLF: 4241.042150378173\n",
      "Iteration:     12,   Func. Count:    102,   Neg. LLF: 4241.041895820041\n",
      "Iteration:     13,   Func. Count:    109,   Neg. LLF: 4241.041891206226\n",
      "Iteration:     14,   Func. Count:    115,   Neg. LLF: 4241.041891206236\n",
      "Optimization terminated successfully    (Exit mode 0)\n",
      "            Current function value: 4241.041891206226\n",
      "            Iterations: 14\n",
      "            Function evaluations: 115\n",
      "            Gradient evaluations: 14\n"
     ]
    },
    {
     "data": {
      "image/png": "[encoded data removed]",
      "text/plain": [
       "<Figure size 640x480 with 1 Axes>"
      ]
     },
     "metadata": {},
     "output_type": "display_data"
    }
   ],
   "source": [
    "# Specify GARCH model assumptions\n",
    "skewt_gm = arch_model(train_index['Return'], p = 1, q = 1, mean = 'constant', vol = 'GARCH', dist = 'skewt')\n",
    "# Fit the model\n",
    "skewt_result = skewt_gm.fit()\n",
    "\n",
    "# Get model estimated volatility\n",
    "skewt_vol = skewt_result.conditional_volatility\n",
    "\n",
    "# Plot model fitting results\n",
    "plt.plot(train_index['Date'], skewt_vol, color = 'gold', label = 'Skewed-t Volatility')\n",
    "plt.plot(train_index['Date'], gm_std, color = 'red', label = 'Normal Volatility')\n",
    "plt.plot(train_index['Date'], train_index['Return'], color = 'grey', label = 'Daily Returns', alpha = 0.4)\n",
    "plt.legend(loc = 'upper left')\n",
    "plt.show()"
   ]
  },
  {
   "cell_type": "markdown",
   "id": "98acdb59",
   "metadata": {},
   "source": [
    "using the p-values to decide the necessity of model parameters, and define a parsimonious model without insignificant parameters.The null hypothesis is the parameter value is zero. If the p-value is larger than a given confidence level (5%), the null hypothesis cannot be rejected, meaning the parameter is not statistically significant, hence not necessary."
   ]
  },
  {
   "cell_type": "code",
   "execution_count": null,
   "id": "fec09967",
   "metadata": {},
   "outputs": [],
   "source": [
    "# Print model fitting summary\n",
    "print(gm_result.summary())\n",
    "\n",
    "# Get parameter stats from model summary\n",
    "para_summary = pd.DataFrame({'parameter':gm_result.params,\n",
    "                             'p-value': gm_result.pvalues})\n",
    "\n",
    "# Print out parameter stats\n",
    "print(para_summary)"
   ]
  },
  {
   "cell_type": "markdown",
   "id": "044d1923",
   "metadata": {},
   "source": [
    "D. Forecast "
   ]
  },
  {
   "cell_type": "markdown",
   "id": "10ce7abf",
   "metadata": {},
   "source": [
    "D1. Forecast "
   ]
  },
  {
   "cell_type": "code",
   "execution_count": null,
   "id": "b4ab8343",
   "metadata": {},
   "outputs": [],
   "source": [
    "# Make 5-period ahead forecast \n",
    "gm_forecast = gm_result.forecast(horizon = 5)\n",
    "\n",
    "# Print the forecast variance\n",
    "print(gm_forecast.variance[-1:])"
   ]
  },
  {
   "cell_type": "code",
   "execution_count": null,
   "id": "5b980773",
   "metadata": {},
   "outputs": [],
   "source": []
  },
  {
   "cell_type": "markdown",
   "id": "bc1d0837",
   "metadata": {},
   "source": [
    "\"5-periods\" refers to a forecast horizon of 5 time periods into the future. So, gm_forecast = gm_result.forecast(horizon = 5) generates a forecast of the variance of the SP500 returns for the next 5 time periods. The length of each time period would depend on the frequency of the data, which in your case would be daily since you are using daily close prices and returns. So, if each time period represents one day, then the 5-period horizon would be a forecast for the next 5 trading days."
   ]
  },
  {
   "cell_type": "markdown",
   "id": "e60647d9",
   "metadata": {},
   "source": [
    "E. Forecast with fixed rolling window"
   ]
  },
  {
   "cell_type": "code",
   "execution_count": 50,
   "id": "77171bdc",
   "metadata": {
    "scrolled": true
   },
   "outputs": [
    {
     "name": "stdout",
     "output_type": "stream",
     "text": [
      "Iteration:      5,   Func. Count:     37,   Neg. LLF: 295.2837144395388\n",
      "Optimization terminated successfully    (Exit mode 0)\n",
      "            Current function value: 283.43346606427474\n",
      "            Iterations: 8\n",
      "            Function evaluations: 53\n",
      "            Gradient evaluations: 8\n",
      "Iteration:      5,   Func. Count:     37,   Neg. LLF: 285.71766175212764\n",
      "Optimization terminated successfully    (Exit mode 0)\n",
      "            Current function value: 283.7167341886154\n",
      "            Iterations: 8\n",
      "            Function evaluations: 53\n",
      "            Gradient evaluations: 8\n",
      "Iteration:      5,   Func. Count:     37,   Neg. LLF: 285.2951464831001\n",
      "Optimization terminated successfully    (Exit mode 0)\n",
      "            Current function value: 284.21938061264854\n",
      "            Iterations: 8\n",
      "            Function evaluations: 53\n",
      "            Gradient evaluations: 8\n",
      "Iteration:      5,   Func. Count:     37,   Neg. LLF: 286.41951225358673\n",
      "Optimization terminated successfully    (Exit mode 0)\n",
      "            Current function value: 286.3469896251082\n",
      "            Iterations: 8\n",
      "            Function evaluations: 54\n",
      "            Gradient evaluations: 8\n",
      "Iteration:      5,   Func. Count:     37,   Neg. LLF: 286.56773836351954\n",
      "Optimization terminated successfully    (Exit mode 0)\n",
      "            Current function value: 286.5666898046063\n",
      "            Iterations: 9\n",
      "            Function evaluations: 58\n",
      "            Gradient evaluations: 9\n",
      "Iteration:      5,   Func. Count:     37,   Neg. LLF: 286.66252409128896\n",
      "Optimization terminated successfully    (Exit mode 0)\n",
      "            Current function value: 286.5798644819861\n",
      "            Iterations: 8\n",
      "            Function evaluations: 54\n",
      "            Gradient evaluations: 8\n",
      "Iteration:      5,   Func. Count:     36,   Neg. LLF: 3587.9813390896675\n",
      "Optimization terminated successfully    (Exit mode 0)\n",
      "            Current function value: 286.13768505820826\n",
      "            Iterations: 9\n",
      "            Function evaluations: 58\n",
      "            Gradient evaluations: 9\n",
      "Iteration:      5,   Func. Count:     36,   Neg. LLF: 2057.6984181805497\n",
      "Optimization terminated successfully    (Exit mode 0)\n",
      "            Current function value: 285.83967035837077\n",
      "            Iterations: 9\n",
      "            Function evaluations: 57\n",
      "            Gradient evaluations: 9\n",
      "Iteration:      5,   Func. Count:     35,   Neg. LLF: 357.70967622819586\n",
      "Optimization terminated successfully    (Exit mode 0)\n",
      "            Current function value: 285.56328288240036\n",
      "            Iterations: 9\n",
      "            Function evaluations: 58\n",
      "            Gradient evaluations: 9\n",
      "Iteration:      5,   Func. Count:     36,   Neg. LLF: 452.57111264046216\n",
      "Optimization terminated successfully    (Exit mode 0)\n",
      "            Current function value: 285.293057059322\n",
      "            Iterations: 9\n",
      "            Function evaluations: 58\n",
      "            Gradient evaluations: 9\n",
      "Iteration:      5,   Func. Count:     38,   Neg. LLF: 286.8790442020299\n",
      "Optimization terminated successfully    (Exit mode 0)\n",
      "            Current function value: 286.842037713437\n",
      "            Iterations: 8\n",
      "            Function evaluations: 53\n",
      "            Gradient evaluations: 8\n",
      "Iteration:      5,   Func. Count:     37,   Neg. LLF: 401.9381848649881\n",
      "Optimization terminated successfully    (Exit mode 0)\n",
      "            Current function value: 286.28740366344016\n",
      "            Iterations: 9\n",
      "            Function evaluations: 59\n",
      "            Gradient evaluations: 9\n",
      "Iteration:      5,   Func. Count:     36,   Neg. LLF: 533.155076379827\n",
      "Optimization terminated successfully    (Exit mode 0)\n",
      "            Current function value: 284.99923202449145\n",
      "            Iterations: 9\n",
      "            Function evaluations: 58\n",
      "            Gradient evaluations: 9\n",
      "Iteration:      5,   Func. Count:     38,   Neg. LLF: 282.8705093132522\n",
      "Optimization terminated successfully    (Exit mode 0)\n",
      "            Current function value: 282.86831682485183\n",
      "            Iterations: 8\n",
      "            Function evaluations: 54\n",
      "            Gradient evaluations: 8\n",
      "Iteration:      5,   Func. Count:     37,   Neg. LLF: 1116.9719121647177\n",
      "Optimization terminated successfully    (Exit mode 0)\n",
      "            Current function value: 282.65663442953974\n",
      "            Iterations: 9\n",
      "            Function evaluations: 59\n",
      "            Gradient evaluations: 9\n",
      "Iteration:      5,   Func. Count:     37,   Neg. LLF: 296.98234679363645\n",
      "Optimization terminated successfully    (Exit mode 0)\n",
      "            Current function value: 282.3045373603176\n",
      "            Iterations: 8\n",
      "            Function evaluations: 53\n",
      "            Gradient evaluations: 8\n",
      "Iteration:      5,   Func. Count:     36,   Neg. LLF: 502.08848987049265\n",
      "Iteration:     10,   Func. Count:     63,   Neg. LLF: 282.0839074364187\n",
      "Optimization terminated successfully    (Exit mode 0)\n",
      "            Current function value: 282.0839074364418\n",
      "            Iterations: 10\n",
      "            Function evaluations: 63\n",
      "            Gradient evaluations: 10\n",
      "Iteration:      5,   Func. Count:     35,   Neg. LLF: 5939.363089137558\n",
      "Optimization terminated successfully    (Exit mode 0)\n",
      "            Current function value: 281.3670443107913\n",
      "            Iterations: 9\n",
      "            Function evaluations: 57\n",
      "            Gradient evaluations: 9\n",
      "Iteration:      5,   Func. Count:     37,   Neg. LLF: 280.5810271275705\n",
      "Optimization terminated successfully    (Exit mode 0)\n",
      "            Current function value: 280.57887160592645\n",
      "            Iterations: 7\n",
      "            Function evaluations: 47\n",
      "            Gradient evaluations: 7\n",
      "Iteration:      5,   Func. Count:     35,   Neg. LLF: 279.9882061000146\n",
      "Optimization terminated successfully    (Exit mode 0)\n",
      "            Current function value: 279.97974471439466\n",
      "            Iterations: 9\n",
      "            Function evaluations: 56\n",
      "            Gradient evaluations: 9\n",
      "Iteration:      5,   Func. Count:     36,   Neg. LLF: 316.3399743826151\n",
      "Optimization terminated successfully    (Exit mode 0)\n",
      "            Current function value: 281.4995396525972\n",
      "            Iterations: 9\n",
      "            Function evaluations: 57\n",
      "            Gradient evaluations: 9\n",
      "Iteration:      5,   Func. Count:     36,   Neg. LLF: 311.35121777967515\n",
      "Optimization terminated successfully    (Exit mode 0)\n",
      "            Current function value: 281.427996886307\n",
      "            Iterations: 8\n",
      "            Function evaluations: 52\n",
      "            Gradient evaluations: 8\n",
      "Iteration:      5,   Func. Count:     36,   Neg. LLF: 275.1409545626433\n",
      "Optimization terminated successfully    (Exit mode 0)\n",
      "            Current function value: 274.37858467541093\n",
      "            Iterations: 9\n",
      "            Function evaluations: 59\n",
      "            Gradient evaluations: 9\n",
      "Iteration:      5,   Func. Count:     36,   Neg. LLF: 276.01975756919717\n",
      "Iteration:     10,   Func. Count:     62,   Neg. LLF: 274.51740470734563\n",
      "Optimization terminated successfully    (Exit mode 0)\n",
      "            Current function value: 274.5174047073882\n",
      "            Iterations: 10\n",
      "            Function evaluations: 62\n",
      "            Gradient evaluations: 10\n",
      "Iteration:      5,   Func. Count:     36,   Neg. LLF: 275.16991674221845\n",
      "Iteration:     10,   Func. Count:     63,   Neg. LLF: 273.7041631282421\n",
      "Optimization terminated successfully    (Exit mode 0)\n",
      "            Current function value: 273.70416312842633\n",
      "            Iterations: 10\n",
      "            Function evaluations: 63\n",
      "            Gradient evaluations: 10\n",
      "Iteration:      5,   Func. Count:     36,   Neg. LLF: 273.6994403360973\n",
      "Iteration:     10,   Func. Count:     63,   Neg. LLF: 272.6220855711144\n",
      "Optimization terminated successfully    (Exit mode 0)\n",
      "            Current function value: 272.62208557115855\n",
      "            Iterations: 10\n",
      "            Function evaluations: 63\n",
      "            Gradient evaluations: 10\n",
      "Iteration:      5,   Func. Count:     35,   Neg. LLF: 273.0659923511042\n",
      "Iteration:     10,   Func. Count:     64,   Neg. LLF: 272.7071843091386\n",
      "Optimization terminated successfully    (Exit mode 0)\n",
      "            Current function value: 272.7071843091386\n",
      "            Iterations: 11\n",
      "            Function evaluations: 68\n",
      "            Gradient evaluations: 11\n",
      "Iteration:      5,   Func. Count:     33,   Neg. LLF: 274.61737843402193\n",
      "Iteration:     10,   Func. Count:     61,   Neg. LLF: 272.1600036990097\n",
      "Optimization terminated successfully    (Exit mode 0)\n",
      "            Current function value: 272.1600029536824\n",
      "            Iterations: 11\n",
      "            Function evaluations: 66\n",
      "            Gradient evaluations: 11\n",
      "Iteration:      5,   Func. Count:     33,   Neg. LLF: 272.3283693292766\n",
      "Iteration:     10,   Func. Count:     60,   Neg. LLF: 272.00390696104125\n",
      "Optimization terminated successfully    (Exit mode 0)\n",
      "            Current function value: 272.0039069609916\n",
      "            Iterations: 10\n",
      "            Function evaluations: 60\n",
      "            Gradient evaluations: 10\n"
     ]
    },
    {
     "name": "stdout",
     "output_type": "stream",
     "text": [
      "Iteration:      5,   Func. Count:     32,   Neg. LLF: 269.4863344584978\n",
      "Optimization terminated successfully    (Exit mode 0)\n",
      "            Current function value: 268.74730951992365\n",
      "            Iterations: 9\n",
      "            Function evaluations: 55\n",
      "            Gradient evaluations: 9\n"
     ]
    },
    {
     "ename": "TypeError",
     "evalue": "cannot do slice indexing on Int64Index with these indexers [2022-5-2] of type str",
     "output_type": "error",
     "traceback": [
      "\u001b[1;31m---------------------------------------------------------------------------\u001b[0m",
      "\u001b[1;31mTypeError\u001b[0m                                 Traceback (most recent call last)",
      "\u001b[1;32m~\\AppData\\Local\\Temp\\ipykernel_45840\\730543077.py\u001b[0m in \u001b[0;36m<module>\u001b[1;34m\u001b[0m\n\u001b[0;32m     15\u001b[0m \u001b[1;31m# Plot the forecast variance\u001b[0m\u001b[1;33m\u001b[0m\u001b[1;33m\u001b[0m\u001b[0m\n\u001b[0;32m     16\u001b[0m \u001b[0mplt\u001b[0m\u001b[1;33m.\u001b[0m\u001b[0mplot\u001b[0m\u001b[1;33m(\u001b[0m\u001b[0mforecast_var\u001b[0m\u001b[1;33m,\u001b[0m \u001b[0mcolor\u001b[0m \u001b[1;33m=\u001b[0m \u001b[1;34m'red'\u001b[0m\u001b[1;33m)\u001b[0m\u001b[1;33m\u001b[0m\u001b[1;33m\u001b[0m\u001b[0m\n\u001b[1;32m---> 17\u001b[1;33m \u001b[0mplt\u001b[0m\u001b[1;33m.\u001b[0m\u001b[0mplot\u001b[0m\u001b[1;33m(\u001b[0m\u001b[0msp_index\u001b[0m\u001b[1;33m.\u001b[0m\u001b[0mReturn\u001b[0m\u001b[1;33m[\u001b[0m\u001b[1;34m'2022-5-2'\u001b[0m\u001b[1;33m:\u001b[0m\u001b[1;34m'2022-6-10'\u001b[0m\u001b[1;33m]\u001b[0m\u001b[1;33m,\u001b[0m \u001b[0mcolor\u001b[0m \u001b[1;33m=\u001b[0m \u001b[1;34m'green'\u001b[0m\u001b[1;33m)\u001b[0m\u001b[1;33m\u001b[0m\u001b[1;33m\u001b[0m\u001b[0m\n\u001b[0m\u001b[0;32m     18\u001b[0m \u001b[0mplt\u001b[0m\u001b[1;33m.\u001b[0m\u001b[0mshow\u001b[0m\u001b[1;33m(\u001b[0m\u001b[1;33m)\u001b[0m\u001b[1;33m\u001b[0m\u001b[1;33m\u001b[0m\u001b[0m\n",
      "\u001b[1;32m~\\anaconda3\\lib\\site-packages\\pandas\\core\\series.py\u001b[0m in \u001b[0;36m__getitem__\u001b[1;34m(self, key)\u001b[0m\n\u001b[0;32m    982\u001b[0m             \u001b[1;32mreturn\u001b[0m \u001b[0mself\u001b[0m\u001b[1;33m.\u001b[0m\u001b[0m_get_values\u001b[0m\u001b[1;33m(\u001b[0m\u001b[0mkey\u001b[0m\u001b[1;33m)\u001b[0m\u001b[1;33m\u001b[0m\u001b[1;33m\u001b[0m\u001b[0m\n\u001b[0;32m    983\u001b[0m \u001b[1;33m\u001b[0m\u001b[0m\n\u001b[1;32m--> 984\u001b[1;33m         \u001b[1;32mreturn\u001b[0m \u001b[0mself\u001b[0m\u001b[1;33m.\u001b[0m\u001b[0m_get_with\u001b[0m\u001b[1;33m(\u001b[0m\u001b[0mkey\u001b[0m\u001b[1;33m)\u001b[0m\u001b[1;33m\u001b[0m\u001b[1;33m\u001b[0m\u001b[0m\n\u001b[0m\u001b[0;32m    985\u001b[0m \u001b[1;33m\u001b[0m\u001b[0m\n\u001b[0;32m    986\u001b[0m     \u001b[1;32mdef\u001b[0m \u001b[0m_get_with\u001b[0m\u001b[1;33m(\u001b[0m\u001b[0mself\u001b[0m\u001b[1;33m,\u001b[0m \u001b[0mkey\u001b[0m\u001b[1;33m)\u001b[0m\u001b[1;33m:\u001b[0m\u001b[1;33m\u001b[0m\u001b[1;33m\u001b[0m\u001b[0m\n",
      "\u001b[1;32m~\\anaconda3\\lib\\site-packages\\pandas\\core\\series.py\u001b[0m in \u001b[0;36m_get_with\u001b[1;34m(self, key)\u001b[0m\n\u001b[0;32m    989\u001b[0m             \u001b[1;31m# _convert_slice_indexer to determine if this slice is positional\u001b[0m\u001b[1;33m\u001b[0m\u001b[1;33m\u001b[0m\u001b[0m\n\u001b[0;32m    990\u001b[0m             \u001b[1;31m#  or label based, and if the latter, convert to positional\u001b[0m\u001b[1;33m\u001b[0m\u001b[1;33m\u001b[0m\u001b[0m\n\u001b[1;32m--> 991\u001b[1;33m             \u001b[0mslobj\u001b[0m \u001b[1;33m=\u001b[0m \u001b[0mself\u001b[0m\u001b[1;33m.\u001b[0m\u001b[0mindex\u001b[0m\u001b[1;33m.\u001b[0m\u001b[0m_convert_slice_indexer\u001b[0m\u001b[1;33m(\u001b[0m\u001b[0mkey\u001b[0m\u001b[1;33m,\u001b[0m \u001b[0mkind\u001b[0m\u001b[1;33m=\u001b[0m\u001b[1;34m\"getitem\"\u001b[0m\u001b[1;33m)\u001b[0m\u001b[1;33m\u001b[0m\u001b[1;33m\u001b[0m\u001b[0m\n\u001b[0m\u001b[0;32m    992\u001b[0m             \u001b[1;32mreturn\u001b[0m \u001b[0mself\u001b[0m\u001b[1;33m.\u001b[0m\u001b[0m_slice\u001b[0m\u001b[1;33m(\u001b[0m\u001b[0mslobj\u001b[0m\u001b[1;33m)\u001b[0m\u001b[1;33m\u001b[0m\u001b[1;33m\u001b[0m\u001b[0m\n\u001b[0;32m    993\u001b[0m         \u001b[1;32melif\u001b[0m \u001b[0misinstance\u001b[0m\u001b[1;33m(\u001b[0m\u001b[0mkey\u001b[0m\u001b[1;33m,\u001b[0m \u001b[0mABCDataFrame\u001b[0m\u001b[1;33m)\u001b[0m\u001b[1;33m:\u001b[0m\u001b[1;33m\u001b[0m\u001b[1;33m\u001b[0m\u001b[0m\n",
      "\u001b[1;32m~\\anaconda3\\lib\\site-packages\\pandas\\core\\indexes\\numeric.py\u001b[0m in \u001b[0;36m_convert_slice_indexer\u001b[1;34m(self, key, kind)\u001b[0m\n\u001b[0;32m    277\u001b[0m             \u001b[1;32mreturn\u001b[0m \u001b[0mself\u001b[0m\u001b[1;33m.\u001b[0m\u001b[0mslice_indexer\u001b[0m\u001b[1;33m(\u001b[0m\u001b[0mkey\u001b[0m\u001b[1;33m.\u001b[0m\u001b[0mstart\u001b[0m\u001b[1;33m,\u001b[0m \u001b[0mkey\u001b[0m\u001b[1;33m.\u001b[0m\u001b[0mstop\u001b[0m\u001b[1;33m,\u001b[0m \u001b[0mkey\u001b[0m\u001b[1;33m.\u001b[0m\u001b[0mstep\u001b[0m\u001b[1;33m)\u001b[0m\u001b[1;33m\u001b[0m\u001b[1;33m\u001b[0m\u001b[0m\n\u001b[0;32m    278\u001b[0m \u001b[1;33m\u001b[0m\u001b[0m\n\u001b[1;32m--> 279\u001b[1;33m         \u001b[1;32mreturn\u001b[0m \u001b[0msuper\u001b[0m\u001b[1;33m(\u001b[0m\u001b[1;33m)\u001b[0m\u001b[1;33m.\u001b[0m\u001b[0m_convert_slice_indexer\u001b[0m\u001b[1;33m(\u001b[0m\u001b[0mkey\u001b[0m\u001b[1;33m,\u001b[0m \u001b[0mkind\u001b[0m\u001b[1;33m=\u001b[0m\u001b[0mkind\u001b[0m\u001b[1;33m)\u001b[0m\u001b[1;33m\u001b[0m\u001b[1;33m\u001b[0m\u001b[0m\n\u001b[0m\u001b[0;32m    280\u001b[0m \u001b[1;33m\u001b[0m\u001b[0m\n\u001b[0;32m    281\u001b[0m     \u001b[1;33m@\u001b[0m\u001b[0mdoc\u001b[0m\u001b[1;33m(\u001b[0m\u001b[0mIndex\u001b[0m\u001b[1;33m.\u001b[0m\u001b[0m_maybe_cast_slice_bound\u001b[0m\u001b[1;33m)\u001b[0m\u001b[1;33m\u001b[0m\u001b[1;33m\u001b[0m\u001b[0m\n",
      "\u001b[1;32m~\\anaconda3\\lib\\site-packages\\pandas\\core\\indexes\\base.py\u001b[0m in \u001b[0;36m_convert_slice_indexer\u001b[1;34m(self, key, kind)\u001b[0m\n\u001b[0;32m   4053\u001b[0m             \"\"\"\n\u001b[0;32m   4054\u001b[0m             \u001b[1;32mif\u001b[0m \u001b[0mself\u001b[0m\u001b[1;33m.\u001b[0m\u001b[0mis_integer\u001b[0m\u001b[1;33m(\u001b[0m\u001b[1;33m)\u001b[0m \u001b[1;32mor\u001b[0m \u001b[0mis_index_slice\u001b[0m\u001b[1;33m:\u001b[0m\u001b[1;33m\u001b[0m\u001b[1;33m\u001b[0m\u001b[0m\n\u001b[1;32m-> 4055\u001b[1;33m                 \u001b[0mself\u001b[0m\u001b[1;33m.\u001b[0m\u001b[0m_validate_indexer\u001b[0m\u001b[1;33m(\u001b[0m\u001b[1;34m\"slice\"\u001b[0m\u001b[1;33m,\u001b[0m \u001b[0mkey\u001b[0m\u001b[1;33m.\u001b[0m\u001b[0mstart\u001b[0m\u001b[1;33m,\u001b[0m \u001b[1;34m\"getitem\"\u001b[0m\u001b[1;33m)\u001b[0m\u001b[1;33m\u001b[0m\u001b[1;33m\u001b[0m\u001b[0m\n\u001b[0m\u001b[0;32m   4056\u001b[0m                 \u001b[0mself\u001b[0m\u001b[1;33m.\u001b[0m\u001b[0m_validate_indexer\u001b[0m\u001b[1;33m(\u001b[0m\u001b[1;34m\"slice\"\u001b[0m\u001b[1;33m,\u001b[0m \u001b[0mkey\u001b[0m\u001b[1;33m.\u001b[0m\u001b[0mstop\u001b[0m\u001b[1;33m,\u001b[0m \u001b[1;34m\"getitem\"\u001b[0m\u001b[1;33m)\u001b[0m\u001b[1;33m\u001b[0m\u001b[1;33m\u001b[0m\u001b[0m\n\u001b[0;32m   4057\u001b[0m                 \u001b[0mself\u001b[0m\u001b[1;33m.\u001b[0m\u001b[0m_validate_indexer\u001b[0m\u001b[1;33m(\u001b[0m\u001b[1;34m\"slice\"\u001b[0m\u001b[1;33m,\u001b[0m \u001b[0mkey\u001b[0m\u001b[1;33m.\u001b[0m\u001b[0mstep\u001b[0m\u001b[1;33m,\u001b[0m \u001b[1;34m\"getitem\"\u001b[0m\u001b[1;33m)\u001b[0m\u001b[1;33m\u001b[0m\u001b[1;33m\u001b[0m\u001b[0m\n",
      "\u001b[1;32m~\\anaconda3\\lib\\site-packages\\pandas\\core\\indexes\\base.py\u001b[0m in \u001b[0;36m_validate_indexer\u001b[1;34m(self, form, key, kind)\u001b[0m\n\u001b[0;32m   6320\u001b[0m \u001b[1;33m\u001b[0m\u001b[0m\n\u001b[0;32m   6321\u001b[0m         \u001b[1;32mif\u001b[0m \u001b[0mkey\u001b[0m \u001b[1;32mis\u001b[0m \u001b[1;32mnot\u001b[0m \u001b[1;32mNone\u001b[0m \u001b[1;32mand\u001b[0m \u001b[1;32mnot\u001b[0m \u001b[0mis_integer\u001b[0m\u001b[1;33m(\u001b[0m\u001b[0mkey\u001b[0m\u001b[1;33m)\u001b[0m\u001b[1;33m:\u001b[0m\u001b[1;33m\u001b[0m\u001b[1;33m\u001b[0m\u001b[0m\n\u001b[1;32m-> 6322\u001b[1;33m             \u001b[1;32mraise\u001b[0m \u001b[0mself\u001b[0m\u001b[1;33m.\u001b[0m\u001b[0m_invalid_indexer\u001b[0m\u001b[1;33m(\u001b[0m\u001b[0mform\u001b[0m\u001b[1;33m,\u001b[0m \u001b[0mkey\u001b[0m\u001b[1;33m)\u001b[0m\u001b[1;33m\u001b[0m\u001b[1;33m\u001b[0m\u001b[0m\n\u001b[0m\u001b[0;32m   6323\u001b[0m \u001b[1;33m\u001b[0m\u001b[0m\n\u001b[0;32m   6324\u001b[0m     \u001b[1;32mdef\u001b[0m \u001b[0m_maybe_cast_slice_bound\u001b[0m\u001b[1;33m(\u001b[0m\u001b[0mself\u001b[0m\u001b[1;33m,\u001b[0m \u001b[0mlabel\u001b[0m\u001b[1;33m,\u001b[0m \u001b[0mside\u001b[0m\u001b[1;33m:\u001b[0m \u001b[0mstr_t\u001b[0m\u001b[1;33m,\u001b[0m \u001b[0mkind\u001b[0m\u001b[1;33m=\u001b[0m\u001b[0mno_default\u001b[0m\u001b[1;33m)\u001b[0m\u001b[1;33m:\u001b[0m\u001b[1;33m\u001b[0m\u001b[1;33m\u001b[0m\u001b[0m\n",
      "\u001b[1;31mTypeError\u001b[0m: cannot do slice indexing on Int64Index with these indexers [2022-5-2] of type str"
     ]
    },
    {
     "data": {
      "image/png": "[encoded data removed]",
      "text/plain": [
       "<Figure size 640x480 with 1 Axes>"
      ]
     },
     "metadata": {},
     "output_type": "display_data"
    }
   ],
   "source": [
    "start_loc = 0\n",
    "end_loc = 180\n",
    "forecasts = {}\n",
    "for i in range(30):\n",
    "    # Determine window side for trainning(fitting) of fixed rolling window \n",
    "    redef_gm_result = basic_gm.fit(start_ob = start_loc + i, end_ob = end_loc + 1, update_freq = 180)\n",
    "    # Make an 1-period variance forecast in loop \n",
    "    "
   ]
  },
  {
   "cell_type": "code",
   "execution_count": null,
   "id": "0fa967de",
   "metadata": {},
   "outputs": [],
   "source": []
  },
  {
   "cell_type": "code",
   "execution_count": null,
   "id": "f4842876",
   "metadata": {},
   "outputs": [],
   "source": []
  },
  {
   "cell_type": "markdown",
   "id": "fd8c02b0",
   "metadata": {},
   "source": [
    "F. TESTING WITH MODEL PARAMETERS"
   ]
  },
  {
   "cell_type": "code",
   "execution_count": null,
   "id": "1c7b7e00",
   "metadata": {},
   "outputs": [],
   "source": []
  }
 ],
 "metadata": {
  "kernelspec": {
   "display_name": "Python 3 (ipykernel)",
   "language": "python",
   "name": "python3"
  },
  "language_info": {
   "codemirror_mode": {
    "name": "ipython",
    "version": 3
   },
   "file_extension": ".py",
   "mimetype": "text/x-python",
   "name": "python",
   "nbconvert_exporter": "python",
   "pygments_lexer": "ipython3",
   "version": "3.9.13"
  }
 },
 "nbformat": 4,
 "nbformat_minor": 5
}
